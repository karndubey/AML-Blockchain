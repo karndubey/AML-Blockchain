{
 "cells": [
  {
   "cell_type": "code",
   "execution_count": 3,
   "metadata": {},
   "outputs": [],
   "source": [
    "import pandas as pd\n",
    "import datetime as dt\n",
    "import matplotlib as m\n",
    "import matplotlib.pyplot as plt\n",
    "import numpy as np"
   ]
  },
  {
   "cell_type": "markdown",
   "metadata": {},
   "source": [
    "# Retrieving informtion for a particular account id"
   ]
  },
  {
   "cell_type": "code",
   "execution_count": 4,
   "metadata": {},
   "outputs": [],
   "source": [
    "#dataset['operation'] = dataset['operation'].replace(['CASH IN'], 0)\n",
    "#dataset['operation'] = dataset['operation'].replace(['CASH WITHDRAWAL'], 1)\n",
    "#dataset['operation'] = dataset['operation'].replace(['BANK TRANSFER'], 2)\n",
    "\n",
    "#global l , accountCashOut, accountCashIngrp,sumOfGroup\n",
    "#accountCashIn\n",
    "#maxAccID = dataset['account_id'][len(dataset)-1]\n",
    "listOfTransaction=[]\n",
    "    \n",
    "def heavyWithdrawal(dataset,accountlist,maxAccID):\n",
    "    for index in accountlist:\n",
    "        df=dataset.loc[dataset['account_id'] == index]\n",
    "        accountCashIn= df.loc[df['operation'] == 0]\n",
    "        accountCashOut = df.loc[df['operation'] == 1]\n",
    "        accountBankTransfer = df.loc[df['operation'] == 2]\n",
    "        mylist=list(accountCashIn['date1']) \n",
    "        l=set([dt.datetime.strptime(d,'%m/%y').date() for d in mylist])\n",
    "        accountCashIngrp  = accountCashIn.groupby(['date1'])['amount']\n",
    "        sumOfGroup = accountCashIn.groupby(['date1'])['amount'].sum()\n",
    "        \n",
    "        listOfTransaction=suspiciousTransaction(sumOfGroup,accountCashOut,accountCashIngrp,accountCashIn,accountBankTransfer)\n",
    "        if(dataset['account_id'][0]==maxAccID):\n",
    "            break\n",
    "    return listOfTransaction"
   ]
  },
  {
   "cell_type": "code",
   "execution_count": 5,
   "metadata": {},
   "outputs": [],
   "source": [
    "#accountBankTransfer"
   ]
  },
  {
   "cell_type": "markdown",
   "metadata": {},
   "source": [
    "## Deciding Threshold for Cash Withdrwal\n",
    "we ll take mean of amount deposit in account by cash or bank transfer"
   ]
  },
  {
   "cell_type": "code",
   "execution_count": 6,
   "metadata": {},
   "outputs": [],
   "source": [
    "#mean balance for a particular account  ----to be changed under RBI guidelines\n",
    "def meanAndSD(accountCashIn,accountBankTransfer):\n",
    "    bal_cash=np.sum(accountCashIn['amount'])\n",
    "    bal_bank=np.sum(accountBankTransfer['amount'])\n",
    "    std_bank= np.std(accountBankTransfer['amount'])\n",
    "    std_cash= np.std(accountCashIn['amount']+accountBankTransfer['amount'])\n",
    "    mean=(bal_cash+bal_bank)/(len(accountBankTransfer)+len(accountCashIn))\n",
    "    mean\n",
    "    std1=0\n",
    "    accountBankTransfer_arr=np.array(accountBankTransfer)\n",
    "    for i in range(len(accountBankTransfer_arr)):\n",
    "        std1=std1+(mean-accountBankTransfer_arr[i][4])**2\n",
    "    accountCashIn_arr=np.array(accountCashIn)\n",
    "    for i in range(len(accountCashIn_arr)):\n",
    "        std1+=(mean-accountCashIn_arr[i][4])**2\n",
    "    \n",
    "    std1=np.sqrt((std1)/(len(accountBankTransfer)+len(accountCashIn)))\n",
    "    threshold=mean+2*(std1)\n",
    "    return threshold"
   ]
  },
  {
   "cell_type": "code",
   "execution_count": 7,
   "metadata": {},
   "outputs": [],
   "source": [
    "#sumOfGroup.sort_values(ascending=False)\n",
    "def groupByDates(accountCashIngrp):\n",
    "    x=accountCashIngrp.groups.keys()\n",
    "    x=sorted(x)\n",
    "    return x"
   ]
  },
  {
   "cell_type": "code",
   "execution_count": null,
   "metadata": {},
   "outputs": [],
   "source": []
  },
  {
   "cell_type": "code",
   "execution_count": 8,
   "metadata": {},
   "outputs": [],
   "source": [
    "def suspiciousTransaction(sumOfGroup,accountCashOut,accountCashIngrp,accountCashIn,accountBankTransfer):\n",
    "    sumOfGroup=np.array(sumOfGroup)\n",
    "    amount = accountCashOut['amount']\n",
    "    accountCashOut_arr= np.array(accountCashOut)\n",
    "    flag =1\n",
    "    for i in range(len(sumOfGroup)):\n",
    "        x = groupByDates(accountCashIngrp)\n",
    "        if(sumOfGroup[i]>meanAndSD(accountCashIn,accountBankTransfer)):\n",
    "            for j in range(len(accountCashOut_arr)):\n",
    "                if(accountCashOut_arr[j][8]==x[i]):\n",
    "                    listOfTransaction.append(accountCashOut_arr[j])\n",
    "                    flag=0\n",
    "                elif (flag==0):\n",
    "                    break\n",
    "    return listOfTransaction"
   ]
  },
  {
   "cell_type": "code",
   "execution_count": null,
   "metadata": {},
   "outputs": [],
   "source": []
  },
  {
   "cell_type": "code",
   "execution_count": null,
   "metadata": {},
   "outputs": [],
   "source": []
  },
  {
   "cell_type": "code",
   "execution_count": null,
   "metadata": {},
   "outputs": [],
   "source": []
  },
  {
   "cell_type": "code",
   "execution_count": null,
   "metadata": {},
   "outputs": [],
   "source": []
  },
  {
   "cell_type": "code",
   "execution_count": null,
   "metadata": {},
   "outputs": [],
   "source": []
  }
 ],
 "metadata": {
  "kernelspec": {
   "display_name": "Python 3",
   "language": "python",
   "name": "python3"
  },
  "language_info": {
   "codemirror_mode": {
    "name": "ipython",
    "version": 3
   },
   "file_extension": ".py",
   "mimetype": "text/x-python",
   "name": "python",
   "nbconvert_exporter": "python",
   "pygments_lexer": "ipython3",
   "version": "3.5.2"
  }
 },
 "nbformat": 4,
 "nbformat_minor": 2
}
