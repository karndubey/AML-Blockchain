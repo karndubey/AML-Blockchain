{
 "cells": [
  {
   "cell_type": "code",
   "execution_count": 7,
   "metadata": {},
   "outputs": [],
   "source": [
    "import pandas as pd\n",
    "import datetime as dt\n",
    "import matplotlib as m\n",
    "import matplotlib.pyplot as plt\n",
    "import numpy as np"
   ]
  },
  {
   "cell_type": "markdown",
   "metadata": {},
   "source": [
    "# Retrieving informtion for a particular account id"
   ]
  },
  {
   "cell_type": "code",
   "execution_count": 8,
   "metadata": {},
   "outputs": [],
   "source": [
    "listofTransaction=[]\n",
    "def heavyDeposit(dataset,accountlist,maxAccID):\n",
    "    for index in accountlist:\n",
    "        df=dataset.loc[dataset['account_id'] == index]\n",
    "        accountCashIn= df.loc[df['operation'] == 0]\n",
    "        accountCashOut = df.loc[df['operation'] == 1]\n",
    "        accountBankTransfer = df.loc[df['operation'] == 2]\n",
    "        mylist=list(accountCashIn['date1']) \n",
    "        l=set([dt.datetime.strptime(d,'%m/%y').date() for d in mylist])\n",
    "        accountCashIngrp  = accountCashIn.groupby(['date1'])['amount']\n",
    "        sumOfGroup = accountCashIn.groupby(['date1'])['amount'].sum()\n",
    "        \n",
    "        suspiciousTransaction(sumOfGroup,accountCashIn,accountCashIngrp)\n",
    "        if(dataset['account_id'][0]==maxAccID):\n",
    "            break\n",
    "    return listofTransaction"
   ]
  },
  {
   "cell_type": "code",
   "execution_count": null,
   "metadata": {},
   "outputs": [],
   "source": []
  },
  {
   "cell_type": "code",
   "execution_count": 1,
   "metadata": {},
   "outputs": [],
   "source": [
    "#mean balance for a particular account  ----to be changed under RBI guidelines\n",
    "def meanAndSD(accountCashIn):\n",
    "    #meanAmount=float(accountCashIn['amount'])/len(accountCashIn['amount'])\n",
    "    meanAmount=np.mean(accountCashIn['amount'])\n",
    "    #meanAmount\n",
    "    sigma=np.std(accountCashIn['amount'])\n",
    "    sigma\n",
    "    threshold=2.5*sigma+meanAmount\n",
    "    return threshold\n",
    "\n",
    "def groupBydates(accountCashIngrp):\n",
    "    x= accountCashIngrp.groups.keys()\n",
    "    x=sorted(x)\n",
    "    return x"
   ]
  },
  {
   "cell_type": "code",
   "execution_count": 10,
   "metadata": {},
   "outputs": [],
   "source": [
    "# threshold to generate alert for large deposit in month\n",
    "# parameter \n",
    "def suspiciousTransaction(sumOfGroup,accountCashIn,accountCashIngrp):\n",
    "    \n",
    "    sumOfGroup=np.array(sumOfGroup)\n",
    "    #amount = accountCashOut['amount']\n",
    "    accountCashIn_arr= np.array(accountCashIn)\n",
    "    flag =1\n",
    "    x= groupBydates(accountCashIngrp)\n",
    "    #print(\"sumofgrop \",len(sumOfGroup),\" X: \",len(x),\"account_cash_arr: \",len(accountCashIn_arr))\n",
    "        \n",
    "    for i in range(len(sumOfGroup)):\n",
    "       \n",
    "        if(sumOfGroup[i]>meanAndSD(accountCashIn)):\n",
    "            for j in range(len(accountCashIn_arr)):\n",
    "                #print(accountCashIn_arr[j][8],x[i])\n",
    "                if(accountCashIn_arr[j][8]==x[i]):\n",
    "                    listofTransaction.append(accountCashIn_arr[j])\n",
    "                    flag=0\n",
    "    "
   ]
  },
  {
   "cell_type": "code",
   "execution_count": null,
   "metadata": {},
   "outputs": [],
   "source": []
  },
  {
   "cell_type": "code",
   "execution_count": null,
   "metadata": {},
   "outputs": [],
   "source": []
  },
  {
   "cell_type": "code",
   "execution_count": null,
   "metadata": {},
   "outputs": [],
   "source": []
  },
  {
   "cell_type": "code",
   "execution_count": null,
   "metadata": {},
   "outputs": [],
   "source": []
  },
  {
   "cell_type": "code",
   "execution_count": null,
   "metadata": {},
   "outputs": [],
   "source": []
  }
 ],
 "metadata": {
  "kernelspec": {
   "display_name": "Python 3",
   "language": "python",
   "name": "python3"
  },
  "language_info": {
   "codemirror_mode": {
    "name": "ipython",
    "version": 3
   },
   "file_extension": ".py",
   "mimetype": "text/x-python",
   "name": "python",
   "nbconvert_exporter": "python",
   "pygments_lexer": "ipython3",
   "version": "3.5.2"
  }
 },
 "nbformat": 4,
 "nbformat_minor": 2
}
