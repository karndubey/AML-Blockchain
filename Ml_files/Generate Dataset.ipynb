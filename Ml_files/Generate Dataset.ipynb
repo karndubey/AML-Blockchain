{
 "cells": [
  {
   "cell_type": "code",
   "execution_count": 1,
   "metadata": {},
   "outputs": [],
   "source": [
    "import pandas as pd\n",
    "df = pd.read_csv(\"transNew.csv\")\n",
    "df=df.dropna(how='any')\n",
    "df['type1'] = df['type1'].replace(['PRIJEM'], 'credit')\n",
    "df['type1'] = df['type1'].replace(['VYDAJ'], 'withdraw')\n",
    "df['Frequency'] = df['Frequency'].replace(['POPLATEK MESICNE'], 'MONTHLY')\n",
    "df['Frequency'] = df['Frequency'].replace(['POPLATEK TYDNE'], 'WEEKLY')\n",
    "df['Frequency'] = df['Frequency'].replace(['POPLATEK PO OBRATU'], 'AFTER TRANSACTION')\n",
    "df['operation'] = df['operation'].replace(['VKLAD'], 'CASH IN')\n",
    "df['operation'] = df['operation'].replace(['PREVOD Z UCTU'], 'BANK TRANSFER')\n",
    "df['operation'] = df['operation'].replace(['VYBER KARTOU'], 'CREDIT CARD WITHDRAWAL')\n",
    "df['operation'] = df['operation'].replace(['VYBER'], 'CASH WITHDRAWAL')\n",
    "df['operation'] = df['operation'].replace(['PREVOD NA UCET'], 'BANK REMITTANCE') \n",
    "df.to_csv(\"dataset.csv\",sep=\",\")"
   ]
  },
  {
   "cell_type": "code",
   "execution_count": 12,
   "metadata": {},
   "outputs": [
    {
     "data": {
      "text/plain": [
       "573335"
      ]
     },
     "execution_count": 12,
     "metadata": {},
     "output_type": "execute_result"
    }
   ],
   "source": []
  },
  {
   "cell_type": "code",
   "execution_count": 2,
   "metadata": {},
   "outputs": [
    {
     "data": {
      "text/plain": [
       "13987"
      ]
     },
     "execution_count": 2,
     "metadata": {},
     "output_type": "execute_result"
    }
   ],
   "source": [
    "len(df)"
   ]
  },
  {
   "cell_type": "code",
   "execution_count": null,
   "metadata": {},
   "outputs": [],
   "source": []
  }
 ],
 "metadata": {
  "kernelspec": {
   "display_name": "Python 3",
   "language": "python",
   "name": "python3"
  },
  "language_info": {
   "codemirror_mode": {
    "name": "ipython",
    "version": 3
   },
   "file_extension": ".py",
   "mimetype": "text/x-python",
   "name": "python",
   "nbconvert_exporter": "python",
   "pygments_lexer": "ipython3",
   "version": "3.5.2"
  }
 },
 "nbformat": 4,
 "nbformat_minor": 2
}
