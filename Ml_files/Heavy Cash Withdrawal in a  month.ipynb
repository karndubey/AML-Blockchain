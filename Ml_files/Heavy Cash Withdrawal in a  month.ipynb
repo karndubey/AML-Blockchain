{
 "cells": [
  {
   "cell_type": "code",
   "execution_count": 1,
   "metadata": {},
   "outputs": [],
   "source": [
    "import pandas as pd\n",
    "import datetime as dt\n",
    "import matplotlib as m\n",
    "import matplotlib.pyplot as plt\n",
    "import numpy as np\n",
    "dataset=pd.read_csv(\"dataset.csv\")"
   ]
  },
  {
   "cell_type": "markdown",
   "metadata": {},
   "source": [
    "# Retrieving informtion for a particular account id"
   ]
  },
  {
   "cell_type": "code",
   "execution_count": 2,
   "metadata": {},
   "outputs": [],
   "source": [
    "dataset['operation'] = dataset['operation'].replace(['CASH IN'], 0)\n",
    "dataset['operation'] = dataset['operation'].replace(['CASH WITHDRAWAL'], 1)\n",
    "dataset['operation'] = dataset['operation'].replace(['BANK TRANSFER'], 2)\n",
    "df=dataset.loc[dataset['account_id'] == 1]\n",
    "accountCashIn= df.loc[df['operation'] == 0]\n",
    "accountCashOut = df.loc[df['operation'] == 1]\n",
    "accountBankTransfer = df.loc[df['operation'] == 2]"
   ]
  },
  {
   "cell_type": "code",
   "execution_count": 3,
   "metadata": {},
   "outputs": [],
   "source": [
    "mylist=list(accountCashOut['date1']) \n",
    "l=[dt.datetime.strptime(d,'%m/%y').date() for d in mylist] \n",
    "#accountBankTransfer"
   ]
  },
  {
   "cell_type": "markdown",
   "metadata": {},
   "source": [
    "## Deciding Threshold for Cash Withdrwal\n",
    "we ll take mean of amount deposit in account by cash or bank transfer"
   ]
  },
  {
   "cell_type": "code",
   "execution_count": 4,
   "metadata": {},
   "outputs": [
    {
     "name": "stdout",
     "output_type": "stream",
     "text": [
      "4713693.961218843\n"
     ]
    },
    {
     "data": {
      "text/plain": [
       "1606.5611797418787"
      ]
     },
     "execution_count": 4,
     "metadata": {},
     "output_type": "execute_result"
    }
   ],
   "source": [
    "#mean balance for a particular account  ----to be changed under RBI guidelines\n",
    "bal_cash=np.sum(accountCashIn['amount'])\n",
    "bal_bank=np.sum(accountBankTransfer['amount'])\n",
    "std_bank= np.std(accountBankTransfer['amount'])\n",
    "std_cash= np.std(accountCashIn['amount']+accountBankTransfer['amount'])\n",
    "mean=(bal_cash+bal_bank)/(len(accountBankTransfer)+len(accountCashIn))\n",
    "mean\n",
    "std1=0\n",
    "accountBankTransfer_arr=np.array(accountBankTransfer)\n",
    "for i in range(len(accountBankTransfer_arr)):\n",
    "    std1=std1+(mean-accountBankTransfer_arr[i][4])**2\n",
    "print(std1)\n",
    "accountCashIn_arr=np.array(accountCashIn)\n",
    "for i in range(len(accountCashIn_arr)):\n",
    "    std1+=(mean-accountCashIn_arr[i][4])**2\n",
    "#std1\n",
    "std1=np.sqrt((std1)/(len(accountBankTransfer)+len(accountCashIn)))\n",
    "std1"
   ]
  },
  {
   "cell_type": "code",
   "execution_count": 5,
   "metadata": {},
   "outputs": [],
   "source": [
    "accountCashIngrp=accountCashOut.groupby(['date1'])['amount']\n",
    "sumOfGroup = accountCashOut.groupby(['date1'])['amount'].sum()\n",
    "#sumOfGroup.sort_values(ascending=False)\n",
    "x=accountCashIngrp.groups.keys()\n",
    "x=sorted(x)"
   ]
  },
  {
   "cell_type": "code",
   "execution_count": 6,
   "metadata": {},
   "outputs": [],
   "source": [
    "threshold=mean+2*(std1)"
   ]
  },
  {
   "cell_type": "code",
   "execution_count": 7,
   "metadata": {},
   "outputs": [
    {
     "data": {
      "text/plain": [
       "[array([203, 1, 950821, 1, 7500.0, 21402.7, 'MONTHLY', 'withdraw', '08/95'],\n",
       "       dtype=object),\n",
       " array([159, 1, 950831, 1, 14.6, 21487.3, 'MONTHLY', 'withdraw', '08/95'],\n",
       "       dtype=object)]"
      ]
     },
     "execution_count": 7,
     "metadata": {},
     "output_type": "execute_result"
    }
   ],
   "source": [
    "l=[]\n",
    "sumOfGroup=np.array(sumOfGroup)\n",
    "amount = accountCashOut['amount']\n",
    "accountCashOut_arr= np.array(accountCashOut)\n",
    "flag =1\n",
    "for i in range(len(sumOfGroup)):\n",
    "    if(sumOfGroup[i]>threshold):\n",
    "        for j in range(len(accountCashOut_arr)):\n",
    "            if(accountCashOut_arr[j][8]==x[i]):\n",
    "                l.append(accountCashOut_arr[j])\n",
    "                flag=0\n",
    "            elif (flag==0):\n",
    "                break\n",
    "l"
   ]
  },
  {
   "cell_type": "code",
   "execution_count": 8,
   "metadata": {},
   "outputs": [],
   "source": [
    "sumOfGroup = accountCashOut.groupby(['date1'])['amount']"
   ]
  },
  {
   "cell_type": "code",
   "execution_count": 9,
   "metadata": {},
   "outputs": [
    {
     "ename": "AttributeError",
     "evalue": "module 'pandas' has no attribute 'write_csv'",
     "output_type": "error",
     "traceback": [
      "\u001b[0;31m---------------------------------------------------------------------------\u001b[0m",
      "\u001b[0;31mAttributeError\u001b[0m                            Traceback (most recent call last)",
      "\u001b[0;32m<ipython-input-9-2ad8a49c5dd1>\u001b[0m in \u001b[0;36m<module>\u001b[0;34m()\u001b[0m\n\u001b[0;32m----> 1\u001b[0;31m \u001b[0mpd\u001b[0m\u001b[0;34m.\u001b[0m\u001b[0mwrite_csv\u001b[0m\u001b[0;34m(\u001b[0m\u001b[0ml\u001b[0m\u001b[0;34m)\u001b[0m\u001b[0;34m\u001b[0m\u001b[0m\n\u001b[0m",
      "\u001b[0;31mAttributeError\u001b[0m: module 'pandas' has no attribute 'write_csv'"
     ]
    }
   ],
   "source": []
  },
  {
   "cell_type": "code",
   "execution_count": null,
   "metadata": {},
   "outputs": [],
   "source": []
  }
 ],
 "metadata": {
  "kernelspec": {
   "display_name": "Python 3",
   "language": "python",
   "name": "python3"
  },
  "language_info": {
   "codemirror_mode": {
    "name": "ipython",
    "version": 3
   },
   "file_extension": ".py",
   "mimetype": "text/x-python",
   "name": "python",
   "nbconvert_exporter": "python",
   "pygments_lexer": "ipython3",
   "version": "3.5.2"
  }
 },
 "nbformat": 4,
 "nbformat_minor": 2
}
